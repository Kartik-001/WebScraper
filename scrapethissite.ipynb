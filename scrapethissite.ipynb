{
 "cells": [
  {
   "cell_type": "code",
   "execution_count": 1,
   "metadata": {},
   "outputs": [],
   "source": [
    "import requests\n",
    "from bs4 import BeautifulSoup"
   ]
  },
  {
   "cell_type": "code",
   "execution_count": 2,
   "metadata": {},
   "outputs": [],
   "source": [
    "url = 'https://www.scrapethissite.com/pages/forms/'"
   ]
  },
  {
   "cell_type": "code",
   "execution_count": 3,
   "metadata": {},
   "outputs": [],
   "source": [
    "r = requests.get(url)\n",
    "html = BeautifulSoup(r.text, 'html.parser')"
   ]
  },
  {
   "cell_type": "code",
   "execution_count": 4,
   "metadata": {},
   "outputs": [],
   "source": [
    "# print(html)"
   ]
  },
  {
   "cell_type": "code",
   "execution_count": 5,
   "metadata": {},
   "outputs": [],
   "source": [
    "doc = html.find('p', class_='lead')"
   ]
  },
  {
   "cell_type": "code",
   "execution_count": 6,
   "metadata": {},
   "outputs": [],
   "source": [
    "lead = '\\n'.join(map(str.strip, doc.text.strip().split(\"\\n\")))\n",
    "# print(lead)"
   ]
  },
  {
   "cell_type": "code",
   "execution_count": 7,
   "metadata": {},
   "outputs": [],
   "source": [
    "teams = {}"
   ]
  },
  {
   "cell_type": "code",
   "execution_count": 8,
   "metadata": {},
   "outputs": [],
   "source": [
    "table = html.find('table', class_='table')\n",
    "# print(tbody)"
   ]
  },
  {
   "cell_type": "code",
   "execution_count": 9,
   "metadata": {},
   "outputs": [],
   "source": [
    "rows = table.find_all('tr', class_='team')\n",
    "for row in rows:\n",
    "    try:\n",
    "        win_rate = float(row.find('td', class_='pct text-success').string.strip())\n",
    "    except Exception as e:\n",
    "        # print(e)\n",
    "        continue\n",
    "    # print(win_rate)\n",
    "    name = row.find('td', class_='name').string.strip()\n",
    "    # print(name)\n",
    "    teams[name] = win_rate"
   ]
  },
  {
   "cell_type": "code",
   "execution_count": 10,
   "metadata": {},
   "outputs": [
    {
     "name": "stdout",
     "output_type": "stream",
     "text": [
      "Team Pittsburgh Penguins has a win rate of 0.512\n",
      "Team Boston Bruins has a win rate of 0.55\n",
      "Team Calgary Flames has a win rate of 0.575\n",
      "Team Los Angeles Kings has a win rate of 0.575\n",
      "Team St. Louis Blues has a win rate of 0.588\n",
      "Team Chicago Blackhawks has a win rate of 0.613\n"
     ]
    }
   ],
   "source": [
    "for name, win_rate in sorted(teams.items(), key=lambda x: x[1]):\n",
    "    print(f'Team {name} has a win rate of {win_rate}')"
   ]
  }
 ],
 "metadata": {
  "kernelspec": {
   "display_name": "Python 3",
   "language": "python",
   "name": "python3"
  },
  "language_info": {
   "codemirror_mode": {
    "name": "ipython",
    "version": 3
   },
   "file_extension": ".py",
   "mimetype": "text/x-python",
   "name": "python",
   "nbconvert_exporter": "python",
   "pygments_lexer": "ipython3",
   "version": "3.11.5"
  },
  "orig_nbformat": 4
 },
 "nbformat": 4,
 "nbformat_minor": 2
}
